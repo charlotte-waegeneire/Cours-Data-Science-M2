{
 "cells": [
  {
   "cell_type": "markdown",
   "id": "1779da66",
   "metadata": {},
   "source": [
    "# Decision Trees and Ensemble Learning\n",
    "\n",
    "This notebook covers:\n",
    "- Decision Tree Training\n",
    "- Visualization of a Decision Tree\n",
    "- Voting Classifier\n",
    "- Bagging and Boosting\n",
    "- Random Forests\n",
    "\n",
    "Dataset: Titanic (classification task)\n"
   ]
  },
  {
   "cell_type": "code",
   "execution_count": null,
   "id": "4b3b32e8",
   "metadata": {},
   "outputs": [],
   "source": [
    "import pandas as pd\n",
    "import numpy as np\n",
    "import matplotlib.pyplot as plt\n",
    "import seaborn as sns\n",
    "\n",
    "from sklearn.model_selection import train_test_split\n",
    "from sklearn.preprocessing import LabelEncoder\n",
    "from sklearn.metrics import classification_report, confusion_matrix\n",
    "\n",
    "from sklearn.tree import DecisionTreeClassifier, plot_tree\n",
    "from sklearn.ensemble import (\n",
    "    VotingClassifier,\n",
    "    BaggingClassifier,\n",
    "    RandomForestClassifier,\n",
    "    GradientBoostingClassifier,\n",
    ")\n",
    "from sklearn.linear_model import LogisticRegression\n",
    "from sklearn.svm import SVC\n",
    "\n",
    "# Load dataset\n",
    "df = pd.read_csv(\n",
    "    \"https://raw.githubusercontent.com/datasciencedojo/datasets/master/titanic.csv\"\n",
    ")\n",
    "\n",
    "df[\"Age\"].fillna(df[\"Age\"].median(), inplace=True)\n",
    "df[\"Embarked\"].fillna(df[\"Embarked\"].mode()[0], inplace=True)\n",
    "df[\"Sex\"] = LabelEncoder().fit_transform(df[\"Sex\"])\n",
    "df[\"Embarked\"] = LabelEncoder().fit_transform(df[\"Embarked\"])\n",
    "\n",
    "features = [\"Pclass\", \"Sex\", \"Age\", \"Fare\", \"Embarked\"]\n",
    "X = df[features]\n",
    "y = df[\"Survived\"]\n",
    "\n",
    "X_train, X_test, y_train, y_test = train_test_split(\n",
    "    X, y, test_size=0.2, random_state=42\n",
    ")"
   ]
  },
  {
   "cell_type": "markdown",
   "id": "64053938",
   "metadata": {},
   "source": [
    "## Train and Visualize a Decision Tree"
   ]
  },
  {
   "cell_type": "code",
   "execution_count": null,
   "id": "1c854e61",
   "metadata": {},
   "outputs": [],
   "source": [
    "tree = DecisionTreeClassifier(max_depth=4, random_state=42)\n",
    "tree.fit(X_train, y_train)\n",
    "y_pred_tree = tree.predict(X_test)\n",
    "\n",
    "print(classification_report(y_test, y_pred_tree))\n",
    "plt.figure(figsize=(20, 10))\n",
    "plot_tree(tree, feature_names=features, class_names=[\"Died\", \"Survived\"], filled=True)\n",
    "plt.title(\"Decision Tree Visualization\")\n",
    "plt.show()"
   ]
  },
  {
   "cell_type": "markdown",
   "id": "39f17b93",
   "metadata": {},
   "source": [
    "## Hard Voting Classifier"
   ]
  },
  {
   "cell_type": "code",
   "execution_count": null,
   "id": "ec3be6d9",
   "metadata": {},
   "outputs": [],
   "source": [
    "voting_clf = VotingClassifier(\n",
    "    estimators=[\n",
    "        (\"lr\", LogisticRegression(max_iter=1000)),\n",
    "        (\"svc\", SVC(probability=True)),\n",
    "        (\"dt\", DecisionTreeClassifier()),\n",
    "    ],\n",
    "    voting=\"hard\",\n",
    ")\n",
    "\n",
    "voting_clf.fit(X_train, y_train)\n",
    "y_pred_vote = voting_clf.predict(X_test)\n",
    "print(classification_report(y_test, y_pred_vote))"
   ]
  },
  {
   "cell_type": "markdown",
   "id": "36fd3179",
   "metadata": {},
   "source": [
    "## Random Forest"
   ]
  },
  {
   "cell_type": "code",
   "execution_count": null,
   "id": "bcfae224",
   "metadata": {},
   "outputs": [],
   "source": [
    "forest = RandomForestClassifier(n_estimators=100, random_state=42)\n",
    "forest.fit(X_train, y_train)\n",
    "y_pred_forest = forest.predict(X_test)\n",
    "print(classification_report(y_test, y_pred_forest))\n",
    "\n",
    "importances = pd.Series(forest.feature_importances_, index=features)\n",
    "importances.sort_values().plot(kind=\"barh\")\n",
    "plt.title(\"Feature Importances\")\n",
    "plt.show()"
   ]
  },
  {
   "cell_type": "markdown",
   "id": "859f932f",
   "metadata": {},
   "source": [
    "\n",
    "## Exercises\n",
    "\n",
    "### 1. Try Different Depths for the Decision Tree\n",
    "Try `max_depth` values of 2, 4, 6, and 10. What depth gives the best generalization?\n",
    "\n",
    "```python\n",
    "# Example:\n",
    "for depth in [2, 4, 6, 10]:\n",
    "...\n",
    "```\n",
    "\n",
    "---\n",
    "\n",
    "### 2. Try Soft Voting Instead of Hard Voting\n",
    "Change the `VotingClassifier` to use `voting='soft'` and compare accuracy.\n",
    "\n",
    "---\n",
    "\n",
    "### 3. Tune the Random Forest with GridSearchCV\n",
    "Use `GridSearchCV` to find the best number of trees and max depth.\n",
    "\n",
    "```python\n",
    "from sklearn.model_selection import GridSearchCV\n",
    "\n",
    "param_grid = {\n",
    "    'n_estimators': [50, 100],\n",
    "    'max_depth': [4, 6, None]\n",
    "}\n",
    "\n",
    "grid = GridSearchCV(RandomForestClassifier(), param_grid, cv=5)\n",
    "```\n"
   ]
  },
  {
   "cell_type": "markdown",
   "id": "49d650fc",
   "metadata": {},
   "source": []
  }
 ],
 "metadata": {
  "kernelspec": {
   "display_name": ".venv",
   "language": "python",
   "name": "python3"
  },
  "language_info": {
   "codemirror_mode": {
    "name": "ipython",
    "version": 3
   },
   "file_extension": ".py",
   "mimetype": "text/x-python",
   "name": "python",
   "nbconvert_exporter": "python",
   "pygments_lexer": "ipython3",
   "version": "3.13.3"
  }
 },
 "nbformat": 4,
 "nbformat_minor": 5
}
