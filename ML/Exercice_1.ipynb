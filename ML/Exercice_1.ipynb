{
 "cells": [
  {
   "cell_type": "markdown",
   "id": "f9dc0589",
   "metadata": {},
   "source": [
    "# Introduction to Machine Learning – Titanic Dataset\n",
    "\n",
    "This notebook introduces basic supervised learning with:\n",
    "- Preprocessing (missing values, encoding)\n",
    "- Feature scaling\n",
    "- Pipeline creation with Scikit-learn\n",
    "- Model training & evaluation\n",
    "- Model saving and serving with FastAPI"
   ]
  },
  {
   "cell_type": "code",
   "execution_count": null,
   "id": "bddb9988",
   "metadata": {},
   "outputs": [],
   "source": [
    "# 📦 Imports\n",
    "import pandas as pd\n",
    "import numpy as np\n",
    "from sklearn.model_selection import train_test_split\n",
    "from sklearn.preprocessing import StandardScaler, OneHotEncoder\n",
    "from sklearn.compose import ColumnTransformer\n",
    "from sklearn.pipeline import Pipeline\n",
    "from sklearn.impute import SimpleImputer\n",
    "from sklearn.linear_model import LogisticRegression\n",
    "from sklearn.metrics import classification_report\n",
    "import joblib"
   ]
  },
  {
   "cell_type": "code",
   "execution_count": null,
   "id": "628c2bcf",
   "metadata": {},
   "outputs": [],
   "source": [
    "# 📥 Load Titanic Dataset\n",
    "url = \"https://raw.githubusercontent.com/datasciencedojo/datasets/master/titanic.csv\"\n",
    "df = pd.read_csv(url)\n",
    "df.head()"
   ]
  },
  {
   "cell_type": "code",
   "execution_count": null,
   "id": "467288a2",
   "metadata": {},
   "outputs": [],
   "source": [
    "# 🧹 Select Features and Target\n",
    "features = [\"Pclass\", \"Sex\", \"Age\", \"Fare\", \"Embarked\"]\n",
    "target = \"Survived\"\n",
    "\n",
    "X = df[features]\n",
    "y = df[target]"
   ]
  },
  {
   "cell_type": "code",
   "execution_count": null,
   "id": "184e2f94",
   "metadata": {},
   "outputs": [],
   "source": [
    "# 🔧 Define Preprocessing Pipeline\n",
    "numeric_features = [\"Age\", \"Fare\"]\n",
    "numeric_transformer = Pipeline(\n",
    "    [(\"imputer\", SimpleImputer(strategy=\"median\")), (\"scaler\", StandardScaler())]\n",
    ")\n",
    "\n",
    "categorical_features = [\"Pclass\", \"Sex\", \"Embarked\"]\n",
    "categorical_transformer = Pipeline(\n",
    "    [\n",
    "        (\"imputer\", SimpleImputer(strategy=\"most_frequent\")),\n",
    "        (\"encoder\", OneHotEncoder(handle_unknown=\"ignore\")),\n",
    "    ]\n",
    ")\n",
    "\n",
    "preprocessor = ColumnTransformer(\n",
    "    [\n",
    "        (\"num\", numeric_transformer, numeric_features),\n",
    "        (\"cat\", categorical_transformer, categorical_features),\n",
    "    ]\n",
    ")"
   ]
  },
  {
   "cell_type": "code",
   "execution_count": null,
   "id": "7452379a",
   "metadata": {},
   "outputs": [],
   "source": [
    "# 🔁 Full Pipeline with Model\n",
    "clf_pipeline = Pipeline(\n",
    "    [(\"preprocessing\", preprocessor), (\"classifier\", LogisticRegression(max_iter=1000))]\n",
    ")\n",
    "\n",
    "# Split the data\n",
    "X_train, X_test, y_train, y_test = train_test_split(\n",
    "    X, y, test_size=0.2, random_state=42\n",
    ")\n",
    "\n",
    "# Train the model\n",
    "clf_pipeline.fit(X_train, y_train)\n",
    "\n",
    "# Evaluate\n",
    "y_pred = clf_pipeline.predict(X_test)\n",
    "print(classification_report(y_test, y_pred))"
   ]
  },
  {
   "cell_type": "markdown",
   "id": "c13b6dd7",
   "metadata": {},
   "source": [
    "## Save the Trained Pipeline"
   ]
  },
  {
   "cell_type": "code",
   "execution_count": null,
   "id": "d0fe50c6",
   "metadata": {},
   "outputs": [],
   "source": [
    "joblib.dump(clf_pipeline, \"titanic_pipeline.pkl\")"
   ]
  },
  {
   "cell_type": "markdown",
   "id": "6c0bc0e4",
   "metadata": {},
   "source": [
    "## Exercise 1: Try a Different Classifier\n",
    "Replace the logistic regression model in the pipeline with another classifier, such as `RandomForestClassifier`, and compare the results.\n",
    "\n",
    "```python\n",
    "from sklearn.ensemble import RandomForestClassifier\n",
    "# Replace the classifier in clf_pipeline\n",
    "```\n",
    "\n",
    "*What changes do you observe in precision and recall?*"
   ]
  },
  {
   "cell_type": "markdown",
   "id": "e482c4f2",
   "metadata": {},
   "source": [
    "## Exercise 2: Use Cross-Validation\n",
    "Apply cross-validation on the pipeline instead of a single train/test split.\n",
    "\n",
    "```python\n",
    "from sklearn.model_selection import cross_val_score\n",
    "```\n",
    "\n",
    "*Is the model stable across folds?*"
   ]
  },
  {
   "cell_type": "markdown",
   "id": "3e156e8c",
   "metadata": {},
   "source": [
    "## Exercise 3: Add Feature Engineering\n",
    "Add a new column to the Titanic data, such as `FamilySize = SibSp + Parch`, and evaluate if this feature improves the model.\n",
    "\n",
    "```python\n",
    "df['FamilySize'] = df['SibSp'] + df['Parch']\n",
    "# Then include it in the feature list and re-run the pipeline\n",
    "```\n",
    "\n",
    "*Does the new feature improve the prediction metrics?*"
   ]
  },
  {
   "cell_type": "markdown",
   "id": "a0ecf45a",
   "metadata": {},
   "source": [
    "## Exercise 4 (Bonus): Create a Streamlit Interface\n",
    "Build a simple Streamlit UI to load the trained model and predict survival based on user input.\n",
    "\n",
    "```python\n",
    "# Example streamlit interface\n",
    "import streamlit as st\n",
    "import joblib\n",
    "import pandas as pd\n",
    "\n",
    "model = joblib.load(\"titanic_pipeline.pkl\")\n",
    "Pclass = st.selectbox(\"Pclass\", [1, 2, 3])\n",
    "Sex = st.selectbox(\"Sex\", [\"male\", \"female\"])\n",
    "Age = st.slider(\"Age\", 0, 100, 25)\n",
    "Fare = st.slider(\"Fare\", 0.0, 500.0, 32.0)\n",
    "Embarked = st.selectbox(\"Embarked\", [\"S\", \"C\", \"Q\"])\n",
    "\n",
    "if st.button(\"Predict\"):\n",
    "    X_new = pd.DataFrame([[Pclass, Sex, Age, Fare, Embarked]],\n",
    "                         columns=[\"Pclass\", \"Sex\", \"Age\", \"Fare\", \"Embarked\"])\n",
    "    pred = model.predict(X_new)\n",
    "    st.write(\"Prediction:\", \"Survived\" if pred[0] == 1 else \"Did not survive\")\n",
    "```\n",
    "\n",
    "👉 *Try running your Streamlit app locally.*"
   ]
  },
  {
   "cell_type": "markdown",
   "id": "ab42845d",
   "metadata": {},
   "source": []
  }
 ],
 "metadata": {
  "kernelspec": {
   "display_name": ".venv",
   "language": "python",
   "name": "python3"
  },
  "language_info": {
   "name": "python",
   "version": "3.13.3"
  }
 },
 "nbformat": 4,
 "nbformat_minor": 5
}
