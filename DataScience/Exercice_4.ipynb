{
 "cells": [
  {
   "cell_type": "markdown",
   "id": "93a76b36",
   "metadata": {},
   "source": [
    "# Data Visualization with Matplotlib and Seaborn"
   ]
  },
  {
   "cell_type": "markdown",
   "id": "a830a4af",
   "metadata": {},
   "source": [
    "This notebook covers core plotting techniques using **Matplotlib** and **Seaborn**, including exercises to practice."
   ]
  },
  {
   "cell_type": "markdown",
   "id": "7a13830b",
   "metadata": {},
   "source": [
    "## Setup and Sample Data"
   ]
  },
  {
   "cell_type": "code",
   "execution_count": null,
   "id": "70a1019f",
   "metadata": {},
   "outputs": [],
   "source": [
    "import numpy as np\n",
    "import pandas as pd\n",
    "import matplotlib.pyplot as plt\n",
    "import seaborn as sns\n",
    "\n",
    "np.random.seed(0)\n",
    "df = pd.DataFrame(\n",
    "    {\n",
    "        \"total_bill\": np.random.normal(loc=50, scale=15, size=200),\n",
    "        \"tip\": np.random.normal(loc=8, scale=2.5, size=200),\n",
    "        \"day\": np.random.choice([\"Thur\", \"Fri\", \"Sat\", \"Sun\"], size=200),\n",
    "        \"sex\": np.random.choice([\"Male\", \"Female\"], size=200),\n",
    "    }\n",
    ")"
   ]
  },
  {
   "cell_type": "markdown",
   "id": "21f2019c",
   "metadata": {},
   "source": [
    "## Matplotlib Basics: Line Plot"
   ]
  },
  {
   "cell_type": "code",
   "execution_count": null,
   "id": "65ab1755",
   "metadata": {},
   "outputs": [],
   "source": [
    "x = [1, 2, 3, 4]\n",
    "y = [10, 20, 25, 30]\n",
    "\n",
    "plt.figure(figsize=(6, 4))\n",
    "plt.plot(x, y)\n",
    "plt.title(\"Line Plot\")\n",
    "plt.xlabel(\"X-axis\")\n",
    "plt.ylabel(\"Y-axis\")\n",
    "plt.grid(True)\n",
    "plt.tight_layout()\n",
    "plt.show()"
   ]
  },
  {
   "cell_type": "markdown",
   "id": "d8e5224c",
   "metadata": {},
   "source": [
    "## Matplotlib Customization"
   ]
  },
  {
   "cell_type": "code",
   "execution_count": null,
   "id": "bc9ad204",
   "metadata": {},
   "outputs": [],
   "source": [
    "plt.figure(figsize=(6, 4))\n",
    "plt.plot(x, y, color=\"green\", linestyle=\"--\", linewidth=2, marker=\"o\", label=\"Sales\")\n",
    "plt.title(\"Customized Plot\")\n",
    "plt.xlabel(\"X-axis\")\n",
    "plt.ylabel(\"Y-axis\")\n",
    "plt.grid(True, linestyle=\":\", alpha=0.6)\n",
    "plt.legend(loc=\"upper left\")\n",
    "plt.tight_layout()\n",
    "plt.show()"
   ]
  },
  {
   "cell_type": "markdown",
   "id": "b209e19a",
   "metadata": {},
   "source": [
    "## Matplotlib Subplots and Annotations"
   ]
  },
  {
   "cell_type": "code",
   "execution_count": null,
   "id": "bd24b728",
   "metadata": {},
   "outputs": [],
   "source": [
    "fig, axs = plt.subplots(1, 2, figsize=(12, 4))\n",
    "\n",
    "axs[0].plot(x, y, label=\"Line\")\n",
    "axs[0].set_title(\"Line Plot\")\n",
    "axs[0].set_xlabel(\"X\")\n",
    "axs[0].set_ylabel(\"Y\")\n",
    "axs[0].legend()\n",
    "axs[0].grid(True)\n",
    "\n",
    "axs[1].bar(x, y, color=\"skyblue\")\n",
    "axs[1].set_title(\"Bar Plot with Annotation\")\n",
    "axs[1].annotate(\n",
    "    \"Peak\",\n",
    "    xy=(4, 30),\n",
    "    xytext=(3.5, 33),\n",
    "    arrowprops=dict(facecolor=\"black\", arrowstyle=\"->\"),\n",
    ")\n",
    "axs[1].set_xlabel(\"X\")\n",
    "axs[1].set_ylabel(\"Y\")\n",
    "axs[1].grid(True)\n",
    "\n",
    "fig.suptitle(\"Subplots and Annotations\", fontsize=14)\n",
    "plt.tight_layout()\n",
    "plt.show()"
   ]
  },
  {
   "cell_type": "markdown",
   "id": "c7153161",
   "metadata": {},
   "source": [
    "## Seaborn: Distribution Plot"
   ]
  },
  {
   "cell_type": "code",
   "execution_count": null,
   "id": "8d670697",
   "metadata": {},
   "outputs": [],
   "source": [
    "plt.figure(figsize=(7, 4))\n",
    "sns.histplot(df[\"total_bill\"], bins=25, kde=True, color=\"cornflowerblue\")\n",
    "plt.title(\"Distribution of Total Bill with KDE\")\n",
    "plt.xlabel(\"Total Bill ($)\")\n",
    "plt.ylabel(\"Count\")\n",
    "plt.tight_layout()\n",
    "plt.show()"
   ]
  },
  {
   "cell_type": "markdown",
   "id": "3555470d",
   "metadata": {},
   "source": [
    "## Seaborn: Categorical Boxplot with Overlay"
   ]
  },
  {
   "cell_type": "code",
   "execution_count": null,
   "id": "710ad2a6",
   "metadata": {},
   "outputs": [],
   "source": [
    "plt.figure(figsize=(8, 5))\n",
    "sns.boxplot(x=\"day\", y=\"tip\", data=df, palette=\"Set2\")\n",
    "sns.stripplot(x=\"day\", y=\"tip\", data=df, color=\"black\", alpha=0.3, jitter=0.2)\n",
    "plt.title(\"Tip Distribution by Day\")\n",
    "plt.xlabel(\"Day of Week\")\n",
    "plt.ylabel(\"Tip ($)\")\n",
    "plt.tight_layout()\n",
    "plt.show()"
   ]
  },
  {
   "cell_type": "markdown",
   "id": "909e8935",
   "metadata": {},
   "source": [
    "## Seaborn: Correlation Heatmap"
   ]
  },
  {
   "cell_type": "code",
   "execution_count": null,
   "id": "a10701bb",
   "metadata": {},
   "outputs": [],
   "source": [
    "plt.figure(figsize=(6, 4))\n",
    "corr = df[[\"total_bill\", \"tip\"]].corr()\n",
    "sns.heatmap(corr, annot=True, cmap=\"coolwarm\", vmin=-1, vmax=1)\n",
    "plt.title(\"Correlation Heatmap\")\n",
    "plt.tight_layout()\n",
    "plt.show()"
   ]
  },
  {
   "cell_type": "markdown",
   "id": "3a33777e",
   "metadata": {},
   "source": [
    "## Exercises"
   ]
  },
  {
   "cell_type": "markdown",
   "id": "14490240",
   "metadata": {},
   "source": [
    "### Exercise 1: Create a histogram of the `tip` column using Matplotlib."
   ]
  },
  {
   "cell_type": "code",
   "execution_count": null,
   "id": "ee99f147",
   "metadata": {},
   "outputs": [],
   "source": [
    "# TODO: Replace with your own code\n",
    "plt.title(\"Tip Histogram\")\n",
    "plt.xlabel(\"Tip Amount\")\n",
    "plt.ylabel(\"Frequency\")\n",
    "plt.show()"
   ]
  },
  {
   "cell_type": "markdown",
   "id": "e920a08a",
   "metadata": {},
   "source": [
    "### Exercise 2: Use Seaborn to create a violin plot of `total_bill` grouped by `sex`."
   ]
  },
  {
   "cell_type": "code",
   "execution_count": null,
   "id": "4a9e483a",
   "metadata": {},
   "outputs": [],
   "source": [
    "# TODO: Replace with your own code\n",
    "plt.title(\"Total Bill by Gender\")\n",
    "plt.show()"
   ]
  },
  {
   "cell_type": "markdown",
   "id": "690a3c30",
   "metadata": {},
   "source": [
    "### Exercise 3: Plot a Seaborn `pairplot()` to explore numerical relationships."
   ]
  },
  {
   "cell_type": "code",
   "execution_count": null,
   "id": "8a6f26bc",
   "metadata": {},
   "outputs": [],
   "source": [
    "# TODO: Replace with your own code\n",
    "plt.show()"
   ]
  }
 ],
 "metadata": {
  "kernelspec": {
   "display_name": ".venv",
   "language": "python",
   "name": "python3"
  },
  "language_info": {
   "codemirror_mode": {
    "name": "ipython",
    "version": 3
   },
   "file_extension": ".py",
   "mimetype": "text/x-python",
   "name": "python",
   "nbconvert_exporter": "python",
   "pygments_lexer": "ipython3",
   "version": "3.13.3"
  }
 },
 "nbformat": 4,
 "nbformat_minor": 5
}
