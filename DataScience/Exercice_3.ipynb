{
 "cells": [
  {
   "cell_type": "markdown",
   "id": "ac69f298",
   "metadata": {},
   "source": [
    "## Data Preprocessing Lab: Time Series and Text (NLP)"
   ]
  },
  {
   "cell_type": "markdown",
   "id": "20b92f7a",
   "metadata": {},
   "source": [
    "This lab covers two core preprocessing workflows:\n",
    "\n",
    "1. Time Series preprocessing (indexing, resampling, handling missing data)\n",
    "2. Text preprocessing (cleaning, tokenization, vectorization)"
   ]
  },
  {
   "cell_type": "markdown",
   "id": "03b90e2d",
   "metadata": {},
   "source": [
    "## Part 1: Time Series Preprocessing"
   ]
  },
  {
   "cell_type": "markdown",
   "id": "c7699a60",
   "metadata": {},
   "source": [
    "We will use a synthetic dataset simulating daily temperature readings over several months."
   ]
  },
  {
   "cell_type": "code",
   "execution_count": null,
   "id": "677f512f",
   "metadata": {},
   "outputs": [],
   "source": [
    "import pandas as pd\n",
    "import numpy as np\n",
    "\n",
    "# Generate synthetic time series data\n",
    "np.random.seed(42)\n",
    "date_rng = pd.date_range(start=\"2023-01-01\", end=\"2023-04-30\", freq=\"D\")\n",
    "temperature = np.random.normal(loc=15, scale=5, size=len(date_rng))\n",
    "df_ts = pd.DataFrame({\"Date\": date_rng, \"Temperature\": temperature})\n",
    "df_ts.loc[np.random.choice(df_ts.index, 10), \"Temperature\"] = (\n",
    "    np.nan\n",
    ")  # add missing values\n",
    "df_ts.set_index(\"Date\", inplace=True)\n",
    "\n",
    "df_ts.head()"
   ]
  },
  {
   "cell_type": "markdown",
   "id": "7fb2fea1",
   "metadata": {},
   "source": [
    "### Plot the Time Series"
   ]
  },
  {
   "cell_type": "code",
   "execution_count": null,
   "id": "c0e8544f",
   "metadata": {},
   "outputs": [],
   "source": [
    "import matplotlib.pyplot as plt\n",
    "\n",
    "df_ts.plot(figsize=(10, 4), title=\"Daily Temperature\")\n",
    "plt.ylabel(\"Temperature (°C)\")\n",
    "plt.grid(True)\n",
    "plt.show()"
   ]
  },
  {
   "cell_type": "markdown",
   "id": "3b9965ae",
   "metadata": {},
   "source": [
    "### Fill Missing Values and Resample"
   ]
  },
  {
   "cell_type": "code",
   "execution_count": null,
   "id": "8d102548",
   "metadata": {},
   "outputs": [],
   "source": [
    "# Interpolate missing values\n",
    "df_filled = df_ts.interpolate()\n",
    "\n",
    "# Resample to weekly average\n",
    "df_weekly = df_filled.resample(\"W\").mean()\n",
    "\n",
    "df_weekly.head()"
   ]
  },
  {
   "cell_type": "markdown",
   "id": "02c4760a",
   "metadata": {},
   "source": [
    "### Exercise 1: Time Series Handling"
   ]
  },
  {
   "cell_type": "markdown",
   "id": "474c30d2",
   "metadata": {},
   "source": [
    "\n",
    "- Count the number of missing values in `df_ts`\n",
    "- Fill missing values using forward fill instead of interpolation\n",
    "- Plot both original and filled time series for comparison\n"
   ]
  },
  {
   "cell_type": "code",
   "execution_count": null,
   "id": "7c9d60d6",
   "metadata": {},
   "outputs": [],
   "source": [
    "# TODO: Fill missing values using ffill\n",
    "df_ffill = df_ts.fillna(method=\"ffill\")"
   ]
  },
  {
   "cell_type": "markdown",
   "id": "a269f7bb",
   "metadata": {},
   "source": [
    "## Part 2: Text Preprocessing (NLP)"
   ]
  },
  {
   "cell_type": "markdown",
   "id": "c1b2bb8f",
   "metadata": {},
   "source": [
    "We will use a small corpus of text to explore common text preprocessing techniques."
   ]
  },
  {
   "cell_type": "code",
   "execution_count": null,
   "id": "3dabdd5e",
   "metadata": {},
   "outputs": [],
   "source": [
    "documents = [\n",
    "    \"Natural Language Processing (NLP) is a subfield of AI.\",\n",
    "    \"It focuses on understanding and generating human language.\",\n",
    "    \"Text preprocessing is a crucial step in NLP pipelines.\",\n",
    "    \"Common techniques include tokenization, stopword removal, and stemming.\",\n",
    "]"
   ]
  },
  {
   "cell_type": "markdown",
   "id": "4720201a",
   "metadata": {},
   "source": [
    "### Basic Text Cleaning"
   ]
  },
  {
   "cell_type": "code",
   "execution_count": null,
   "id": "cec0816a",
   "metadata": {},
   "outputs": [],
   "source": [
    "import re\n",
    "\n",
    "\n",
    "def clean_text(text):\n",
    "    text = text.lower()\n",
    "    text = re.sub(r\"[^a-z\\s]\", \"\", text)\n",
    "    return text\n",
    "\n",
    "\n",
    "cleaned_docs = [clean_text(doc) for doc in documents]\n",
    "cleaned_docs"
   ]
  },
  {
   "cell_type": "markdown",
   "id": "52e8b137",
   "metadata": {},
   "source": [
    "### Tokenization and Stopword Removal"
   ]
  },
  {
   "cell_type": "code",
   "execution_count": null,
   "id": "4c467fb6",
   "metadata": {},
   "outputs": [],
   "source": [
    "from sklearn.feature_extraction.text import ENGLISH_STOP_WORDS\n",
    "\n",
    "\n",
    "def tokenize(text):\n",
    "    return [word for word in text.split() if word not in ENGLISH_STOP_WORDS]\n",
    "\n",
    "\n",
    "tokenized_docs = [tokenize(doc) for doc in cleaned_docs]\n",
    "tokenized_docs"
   ]
  },
  {
   "cell_type": "markdown",
   "id": "74daa3fe",
   "metadata": {},
   "source": [
    "### Vectorization with CountVectorizer"
   ]
  },
  {
   "cell_type": "code",
   "execution_count": null,
   "id": "e0886db8",
   "metadata": {},
   "outputs": [],
   "source": [
    "from sklearn.feature_extraction.text import CountVectorizer\n",
    "\n",
    "vectorizer = CountVectorizer()\n",
    "X_counts = vectorizer.fit_transform(cleaned_docs)\n",
    "pd.DataFrame(X_counts.toarray(), columns=vectorizer.get_feature_names_out())"
   ]
  },
  {
   "cell_type": "markdown",
   "id": "037edf52",
   "metadata": {},
   "source": [
    "### Exercise 2: Text Preprocessing"
   ]
  },
  {
   "cell_type": "markdown",
   "id": "f39756aa",
   "metadata": {},
   "source": [
    "\n",
    "- Write a function to clean and tokenize a list of new documents\n",
    "- Use `TfidfVectorizer` to vectorize them\n",
    "- Print the TF-IDF matrix\n"
   ]
  },
  {
   "cell_type": "code",
   "execution_count": null,
   "id": "58ee1488",
   "metadata": {},
   "outputs": [],
   "source": [
    "# TODO: Add your new documents and preprocess them\n",
    "from sklearn.feature_extraction.text import TfidfVectorizer\n",
    "\n",
    "new_docs = [\n",
    "    \"Language models are powerful tools.\",\n",
    "    \"Preprocessing affects model performance.\",\n",
    "]\n",
    "tfidf = TfidfVectorizer(stop_words=\"english\")\n",
    "X_tfidf = tfidf.fit_transform(new_docs)\n",
    "pd.DataFrame(X_tfidf.toarray(), columns=tfidf.get_feature_names_out())"
   ]
  }
 ],
 "metadata": {
  "kernelspec": {
   "display_name": ".venv",
   "language": "python",
   "name": "python3"
  },
  "language_info": {
   "codemirror_mode": {
    "name": "ipython",
    "version": 3
   },
   "file_extension": ".py",
   "mimetype": "text/x-python",
   "name": "python",
   "nbconvert_exporter": "python",
   "pygments_lexer": "ipython3",
   "version": "3.13.3"
  }
 },
 "nbformat": 4,
 "nbformat_minor": 5
}
